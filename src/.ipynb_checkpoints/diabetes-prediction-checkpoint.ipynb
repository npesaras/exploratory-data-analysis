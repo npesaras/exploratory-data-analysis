{
 "cells": [
  {
   "cell_type": "markdown",
   "id": "7ab8da90",
   "metadata": {},
   "source": [
    "# Diabetes Prediction and Analysis\n",
    "\n",
    "In this project, the researchers' aim are to investigate and predict the likelihood of diabetes in individuals by leveraging a publicly available dataset. The researchers' approach involves conducting comprehensive exploratory data analysis, comparing key health metrics between diabetic and non-diabetic groups, and developing machine learning models for prediction. The primary objective is to identify significant health indicators linked to diabetes and to construct reliable models that can support early detection efforts.\n"
   ]
  },
  {
   "cell_type": "markdown",
   "id": "3f53302e",
   "metadata": {},
   "source": [
    "## Dataset used\n",
    "\n",
    "    Clinical health records (custom/preprocessed)\n",
    "    Key features: gender, age, hypertension, heart_disease, smoking_history, bmi, HbA1c_level, blood_glucose_level\n",
    "    Target Variable: diabetes\n",
    "    \n",
    "\n",
    "Key Analytics Questions Solved:\n",
    "\n",
    "    Q1: How does diabetes prevalence vary across age groups and genders?\n",
    "    Q2: What is the average BMI, glucose, and HbA1c level in diabetic vs non-diabetic people?\n",
    "    Q3: Which features are most important for predicting diabetes?\n",
    "\n",
    "Project Methodology:\n",
    "\n",
    "    Age binning to group population by age ranges\n",
    "    Gender-wise and age-group-wise visual comparison using seaborn.countplot\n",
    "    Boxplot visualization of key metrics: BMI, glucose, HbA1c\n",
    "    Summary statistics comparison between diabetic and non-diabetic individuals\n",
    "    Feature importance analysis using three machine learning classifiers\n"
   ]
  },
  {
   "cell_type": "markdown",
   "id": "5b4d0204",
   "metadata": {},
   "source": [
    "### Definition of Terms\n",
    "\n",
    "    gender \n",
    "        -> refers to the biological sex of the individual, which can have an impact on their susceptibility to diabetes.\n",
    "\n",
    "    age \n",
    "        -> an important factor as diabetes is more commonly diagnosed in older adults.Age ranges from 0-80 in our dataset.\n",
    "\n",
    "    hypertension \n",
    "        -> medical condition in which the blood pressure in the arteries is persistently elevated. It has values a 0 or 1 where 0 indicates they don’t have hypertension and for 1 it means they have hypertension.\n",
    "\n",
    "    heart_disease\n",
    "         -> another medical condition that is associated with an increased risk of developing diabetes. It has values a 0 or 1 where 0 indicates they don’t have heart disease and for 1 it means they have heart disease.\n",
    "\n",
    "    smoking_history\n",
    "         -> considered a risk factor for diabetes and can exacerbate the complications associated with diabetes.In our dataset we have 5 categories i.e not current,former,No Info,current,never and ever.\n",
    "\n",
    "    bmi (Body Mass Index)\n",
    "         -> a measure of body fat based on weight and height. Higher BMI values are linked to a higher risk of diabetes. The range of BMI in the dataset is from 10.16 to 71.55. BMI less than 18.5 is underweight, 18.5-24.9 is normal, 25-29.9 is overweight, and 30 or more is obese. \n",
    "\n",
    "    HbA1c_level (Hemoglobin A1c)\n",
    "         -> measure of a person's average blood sugar level over the past 2-3 months. Higher levels indicate a greater risk of developing diabetes. Mostly more than 6.5% of HbA1c Level indicates diabetes.\n",
    "\n",
    "    blood_glucose_level\n",
    "         -> refers to the amount of glucose in the bloodstream at a given time. High blood glucose levels are a key indicator of diabetes.\n",
    "\n",
    "    diabetes \n",
    "        -> target variable being predicted, with values of 1 indicating the presence of diabetes and 0 indicating the absence of diabetes.\n"
   ]
  },
  {
   "cell_type": "markdown",
   "id": "36a94d4e",
   "metadata": {},
   "source": [
    "## General Problem Statement\n",
    "\n"
   ]
  },
  {
   "cell_type": "code",
   "execution_count": 21,
   "id": "0dcef687",
   "metadata": {},
   "outputs": [],
   "source": [
    "## Import Basic Libraries\n",
    "\n",
    "import pandas as pd\n",
    "import numpy as np\n",
    "import seaborn as sns\n",
    "import matplotlib.pyplot as plt\n"
   ]
  },
  {
   "cell_type": "code",
   "execution_count": null,
   "id": "79c1ddb4",
   "metadata": {},
   "outputs": [
    {
     "name": "stdout",
     "output_type": "stream",
     "text": [
      "Shape of Dataset (Rows, Columns): (100000, 9) \n",
      "\n",
      "First 5 Rows:\n",
      "    gender   age  hypertension  heart_disease smoking_history    bmi  \\\n",
      "0  Female  80.0             0              1           never  25.19   \n",
      "1  Female  54.0             0              0         No Info  27.32   \n",
      "2    Male  28.0             0              0           never  27.32   \n",
      "3  Female  36.0             0              0         current  23.45   \n",
      "4    Male  76.0             1              1         current  20.14   \n",
      "\n",
      "   HbA1c_level  blood_glucose_level  diabetes  \n",
      "0          6.6                  140         0  \n",
      "1          6.6                   80         0  \n",
      "2          5.7                  158         0  \n",
      "3          5.0                  155         0  \n",
      "4          4.8                  155         0   \n",
      "\n"
     ]
    }
   ],
   "source": [
    "data_set = pd.read_csv('diabetes_prediction_dataset.csv') # Load the dataset\n",
    "print(\"Shape of Dataset (Rows, Columns):\", data_set.shape, \"\\n\")\n",
    "print(\"First 5 Rows:\\n\", data_set.head(), \"\\n\")\n"
   ]
  },
  {
   "cell_type": "code",
   "execution_count": 31,
   "id": "33a1bfd5",
   "metadata": {},
   "outputs": [
    {
     "name": "stdout",
     "output_type": "stream",
     "text": [
      "Missing values per column:\n",
      "gender                 0\n",
      "age                    0\n",
      "hypertension           0\n",
      "heart_disease          0\n",
      "smoking_history        0\n",
      "bmi                    0\n",
      "HbA1c_level            0\n",
      "blood_glucose_level    0\n",
      "diabetes               0\n",
      "dtype: int64\n",
      "\n",
      "Data types of each column:\n",
      "gender                  object\n",
      "age                    float64\n",
      "hypertension             int64\n",
      "heart_disease            int64\n",
      "smoking_history         object\n",
      "bmi                    float64\n",
      "HbA1c_level            float64\n",
      "blood_glucose_level      int64\n",
      "diabetes                 int64\n",
      "dtype: object\n"
     ]
    }
   ],
   "source": [
    "# Check for Missing Values\n",
    "print(\"Missing values per column:\")\n",
    "print(data_set.isnull().sum())\n",
    "\n",
    "# Find data types\n",
    "print(\"\\nData types of each column:\")\n",
    "print(data_set.dtypes)\n"
   ]
  }
 ],
 "metadata": {
  "kernelspec": {
   "display_name": ".venv",
   "language": "python",
   "name": "python3"
  },
  "language_info": {
   "codemirror_mode": {
    "name": "ipython",
    "version": 3
   },
   "file_extension": ".py",
   "mimetype": "text/x-python",
   "name": "python",
   "nbconvert_exporter": "python",
   "pygments_lexer": "ipython3",
   "version": "3.13.3"
  }
 },
 "nbformat": 4,
 "nbformat_minor": 5
}
