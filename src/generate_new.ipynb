{
 "cells": [
  {
   "cell_type": "code",
   "execution_count": 4,
   "id": "d3ede978",
   "metadata": {},
   "outputs": [
    {
     "name": "stdout",
     "output_type": "stream",
     "text": [
      "Original dataset: 100000 rows\n",
      "Sample dataset: 10000 rows\n"
     ]
    }
   ],
   "source": [
    "import pandas as pd\n",
    "\n",
    "# Load the original dataset\n",
    "df = pd.read_csv('diabetes_prediction_dataset.csv')\n",
    "\n",
    "# Print original dataset size\n",
    "print(f\"Original dataset: {len(df)} rows\")\n",
    "\n",
    "# Create a random sample of 10k rows\n",
    "# random_state parameter is optional - use only if you need reproducible results\n",
    "sample_df = df.sample(n=10000, random_state=42)\n",
    "\n",
    "# Print sample size\n",
    "print(f\"Sample dataset: {len(sample_df)} rows\")\n",
    "\n",
    "# Save to new CSV file without the index column\n",
    "sample_df.to_csv('diabetes_prediction_sample_10k.csv', index=False)"
   ]
  }
 ],
 "metadata": {
  "kernelspec": {
   "display_name": ".venv",
   "language": "python",
   "name": "python3"
  },
  "language_info": {
   "codemirror_mode": {
    "name": "ipython",
    "version": 3
   },
   "file_extension": ".py",
   "mimetype": "text/x-python",
   "name": "python",
   "nbconvert_exporter": "python",
   "pygments_lexer": "ipython3",
   "version": "3.13.3"
  }
 },
 "nbformat": 4,
 "nbformat_minor": 5
}
