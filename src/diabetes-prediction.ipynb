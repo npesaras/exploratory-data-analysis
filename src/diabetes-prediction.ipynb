{
 "cells": [
  {
   "cell_type": "markdown",
   "id": "7ab8da90",
   "metadata": {},
   "source": [
    "# Diabetes Prediction and Analysis\n",
    "\n",
    "In this project, the researchers' aim are to investigate and predict the likelihood of diabetes in individuals by leveraging a publicly available dataset. The researchers' approach involves conducting comprehensive exploratory data analysis, comparing key health metrics between diabetic and non-diabetic groups, and developing machine learning models for prediction. \n",
    "\n",
    "The primary objective is to identify significant health indicators linked to diabetes and to construct reliable models that can support early detection efforts.\n"
   ]
  },
  {
   "cell_type": "markdown",
   "id": "3f53302e",
   "metadata": {},
   "source": [
    "**Dataset used:**\n",
    "\n",
    "    Clinical health records\n",
    "    Key features: gender, age, hypertension, heart_disease, smoking_history, bmi, HbA1c_level, blood_glucose_level\n",
    "    Target Variable: diabetes\n",
    "    \n",
    "\n",
    "**Key Analytics Questions Solved:**\n",
    "\n",
    "    Q1: How does diabetes prevalence vary across age groups and genders?\n",
    "    Q2: Which features are most important for predicting diabetes?\n",
    "    Q3: What is the average level based from the top predictors in diabetic vs non-diabetic people?\n",
    "    \n",
    "\n",
    "**Project Methodology:**\n",
    "\n",
    "    Age binning to group population by age ranges\n",
    "    Gender-wise and age-group-wise visual comparison using seaborn.countplot\n",
    "    Boxplot visualization of key metrics: BMI, glucose, HbA1c\n",
    "    Summary statistics comparison between diabetic and non-diabetic individuals\n",
    "    Feature importance analysis using three machine learning classifiers\n",
    "\n",
    "**Models used:**\n",
    "\n",
    "    KNN\n",
    "    Logistic Regression (L1 and L2)\n",
    "    SVM (L1 and L2)\n",
    " \n",
    "\n",
    "**Top Predictors:**\n",
    "\n",
    "\n",
    "**Researchers:**\n",
    "\n",
    "    Maghinay, Shane\n",
    "    Pesaras, Nilmar\n",
    "    Baguio, Ryan\n",
    "    Ventic\n"
   ]
  },
  {
   "cell_type": "markdown",
   "id": "5b4d0204",
   "metadata": {},
   "source": [
    "**Definition of Terms**\n",
    "\n",
    "**gender:** refers to the biological sex of the individual, which can have an impact on their susceptibility to diabetes.\n",
    "\n",
    "**age:** an important factor as diabetes is more commonly diagnosed in older adults. Age ranges from 0-80 in our dataset.\n",
    "\n",
    "**hypertension:** medical condition in which the blood pressure in the arteries is persistently elevated. It has values a 0 or 1 where 0 indicates they don’t have hypertension and for 1 it means they have hypertension.\n",
    "\n",
    "**heart_disease:** another medical condition that is associated with an increased risk of developing diabetes. It has values a 0 or 1 where 0 indicates they don’t have heart disease and for 1 it means they have heart disease.\n",
    "\n",
    "**smoking_history:** considered a risk factor for diabetes and can exacerbate the complications associated with diabetes.In our dataset we have 5 categories i.e not current,former,No Info,current,never and ever.\n",
    "\n",
    "**bmi (Body Mass Index):** a measure of body fat based on weight and height. Higher BMI values are linked to a higher risk of diabetes. The range of BMI in the dataset is from 10.16 to 71.55. BMI less than 18.5 is underweight, 18.5-24.9 is normal, 25-29.9 is overweight, and 30 or more is obese. \n",
    "\n",
    "**HbA1c_level (Hemoglobin A1c):** measure of a person's average blood sugar level over the past 2-3 months. Higher levels indicate a greater risk of developing diabetes. Mostly more than 6.5% of HbA1c Level indicates diabetes.\n",
    "\n",
    "**blood_glucose_level:** refers to the amount of glucose in the bloodstream at a given time. High blood glucose levels are a key indicator of diabetes.\n",
    "\n",
    "**diabetes:** target variable being predicted, with values of 1 indicating the presence of diabetes and 0 indicating the absence of diabetes.\n"
   ]
  },
  {
   "cell_type": "markdown",
   "id": "2728eb2e-6db7-470c-8da8-6f18068b39cf",
   "metadata": {},
   "source": [
    "<center> --------------------------------------------------------------------------------- <center>"
   ]
  },
  {
   "cell_type": "markdown",
   "id": "6d28c5b5",
   "metadata": {},
   "source": [
    "## Import Libraries"
   ]
  },
  {
   "cell_type": "code",
   "execution_count": 198,
   "id": "0dcef687",
   "metadata": {},
   "outputs": [],
   "source": [
    "\n",
    "import pandas as pd\n",
    "import numpy as np\n",
    "import seaborn as sns\n",
    "import matplotlib.pyplot as plt\n",
    "from sklearn.preprocessing import LabelEncoder, StandardScaler, MinMaxScaler\n",
    "from sklearn.model_selection import train_test_split\n",
    "\n"
   ]
  },
  {
   "cell_type": "markdown",
   "id": "84b4797b",
   "metadata": {},
   "source": [
    "## Load Data"
   ]
  },
  {
   "cell_type": "code",
   "execution_count": 199,
   "id": "79c1ddb4",
   "metadata": {},
   "outputs": [
    {
     "data": {
      "text/html": [
       "<div>\n",
       "<style scoped>\n",
       "    .dataframe tbody tr th:only-of-type {\n",
       "        vertical-align: middle;\n",
       "    }\n",
       "\n",
       "    .dataframe tbody tr th {\n",
       "        vertical-align: top;\n",
       "    }\n",
       "\n",
       "    .dataframe thead th {\n",
       "        text-align: right;\n",
       "    }\n",
       "</style>\n",
       "<table border=\"1\" class=\"dataframe\">\n",
       "  <thead>\n",
       "    <tr style=\"text-align: right;\">\n",
       "      <th></th>\n",
       "      <th>gender</th>\n",
       "      <th>age</th>\n",
       "      <th>hypertension</th>\n",
       "      <th>heart_disease</th>\n",
       "      <th>smoking_history</th>\n",
       "      <th>bmi</th>\n",
       "      <th>HbA1c_level</th>\n",
       "      <th>blood_glucose_level</th>\n",
       "      <th>diabetes</th>\n",
       "    </tr>\n",
       "  </thead>\n",
       "  <tbody>\n",
       "    <tr>\n",
       "      <th>0</th>\n",
       "      <td>Female</td>\n",
       "      <td>80.0</td>\n",
       "      <td>0</td>\n",
       "      <td>1</td>\n",
       "      <td>never</td>\n",
       "      <td>25.19</td>\n",
       "      <td>6.6</td>\n",
       "      <td>140</td>\n",
       "      <td>0</td>\n",
       "    </tr>\n",
       "    <tr>\n",
       "      <th>1</th>\n",
       "      <td>Female</td>\n",
       "      <td>54.0</td>\n",
       "      <td>0</td>\n",
       "      <td>0</td>\n",
       "      <td>No Info</td>\n",
       "      <td>27.32</td>\n",
       "      <td>6.6</td>\n",
       "      <td>80</td>\n",
       "      <td>0</td>\n",
       "    </tr>\n",
       "    <tr>\n",
       "      <th>2</th>\n",
       "      <td>Male</td>\n",
       "      <td>28.0</td>\n",
       "      <td>0</td>\n",
       "      <td>0</td>\n",
       "      <td>never</td>\n",
       "      <td>27.32</td>\n",
       "      <td>5.7</td>\n",
       "      <td>158</td>\n",
       "      <td>0</td>\n",
       "    </tr>\n",
       "    <tr>\n",
       "      <th>3</th>\n",
       "      <td>Female</td>\n",
       "      <td>36.0</td>\n",
       "      <td>0</td>\n",
       "      <td>0</td>\n",
       "      <td>current</td>\n",
       "      <td>23.45</td>\n",
       "      <td>5.0</td>\n",
       "      <td>155</td>\n",
       "      <td>0</td>\n",
       "    </tr>\n",
       "    <tr>\n",
       "      <th>4</th>\n",
       "      <td>Male</td>\n",
       "      <td>76.0</td>\n",
       "      <td>1</td>\n",
       "      <td>1</td>\n",
       "      <td>current</td>\n",
       "      <td>20.14</td>\n",
       "      <td>4.8</td>\n",
       "      <td>155</td>\n",
       "      <td>0</td>\n",
       "    </tr>\n",
       "    <tr>\n",
       "      <th>...</th>\n",
       "      <td>...</td>\n",
       "      <td>...</td>\n",
       "      <td>...</td>\n",
       "      <td>...</td>\n",
       "      <td>...</td>\n",
       "      <td>...</td>\n",
       "      <td>...</td>\n",
       "      <td>...</td>\n",
       "      <td>...</td>\n",
       "    </tr>\n",
       "    <tr>\n",
       "      <th>99995</th>\n",
       "      <td>Female</td>\n",
       "      <td>80.0</td>\n",
       "      <td>0</td>\n",
       "      <td>0</td>\n",
       "      <td>No Info</td>\n",
       "      <td>27.32</td>\n",
       "      <td>6.2</td>\n",
       "      <td>90</td>\n",
       "      <td>0</td>\n",
       "    </tr>\n",
       "    <tr>\n",
       "      <th>99996</th>\n",
       "      <td>Female</td>\n",
       "      <td>2.0</td>\n",
       "      <td>0</td>\n",
       "      <td>0</td>\n",
       "      <td>No Info</td>\n",
       "      <td>17.37</td>\n",
       "      <td>6.5</td>\n",
       "      <td>100</td>\n",
       "      <td>0</td>\n",
       "    </tr>\n",
       "    <tr>\n",
       "      <th>99997</th>\n",
       "      <td>Male</td>\n",
       "      <td>66.0</td>\n",
       "      <td>0</td>\n",
       "      <td>0</td>\n",
       "      <td>former</td>\n",
       "      <td>27.83</td>\n",
       "      <td>5.7</td>\n",
       "      <td>155</td>\n",
       "      <td>0</td>\n",
       "    </tr>\n",
       "    <tr>\n",
       "      <th>99998</th>\n",
       "      <td>Female</td>\n",
       "      <td>24.0</td>\n",
       "      <td>0</td>\n",
       "      <td>0</td>\n",
       "      <td>never</td>\n",
       "      <td>35.42</td>\n",
       "      <td>4.0</td>\n",
       "      <td>100</td>\n",
       "      <td>0</td>\n",
       "    </tr>\n",
       "    <tr>\n",
       "      <th>99999</th>\n",
       "      <td>Female</td>\n",
       "      <td>57.0</td>\n",
       "      <td>0</td>\n",
       "      <td>0</td>\n",
       "      <td>current</td>\n",
       "      <td>22.43</td>\n",
       "      <td>6.6</td>\n",
       "      <td>90</td>\n",
       "      <td>0</td>\n",
       "    </tr>\n",
       "  </tbody>\n",
       "</table>\n",
       "<p>100000 rows × 9 columns</p>\n",
       "</div>"
      ],
      "text/plain": [
       "       gender   age  hypertension  heart_disease smoking_history    bmi  \\\n",
       "0      Female  80.0             0              1           never  25.19   \n",
       "1      Female  54.0             0              0         No Info  27.32   \n",
       "2        Male  28.0             0              0           never  27.32   \n",
       "3      Female  36.0             0              0         current  23.45   \n",
       "4        Male  76.0             1              1         current  20.14   \n",
       "...       ...   ...           ...            ...             ...    ...   \n",
       "99995  Female  80.0             0              0         No Info  27.32   \n",
       "99996  Female   2.0             0              0         No Info  17.37   \n",
       "99997    Male  66.0             0              0          former  27.83   \n",
       "99998  Female  24.0             0              0           never  35.42   \n",
       "99999  Female  57.0             0              0         current  22.43   \n",
       "\n",
       "       HbA1c_level  blood_glucose_level  diabetes  \n",
       "0              6.6                  140         0  \n",
       "1              6.6                   80         0  \n",
       "2              5.7                  158         0  \n",
       "3              5.0                  155         0  \n",
       "4              4.8                  155         0  \n",
       "...            ...                  ...       ...  \n",
       "99995          6.2                   90         0  \n",
       "99996          6.5                  100         0  \n",
       "99997          5.7                  155         0  \n",
       "99998          4.0                  100         0  \n",
       "99999          6.6                   90         0  \n",
       "\n",
       "[100000 rows x 9 columns]"
      ]
     },
     "execution_count": 199,
     "metadata": {},
     "output_type": "execute_result"
    }
   ],
   "source": [
    "data_set = pd.read_csv('diabetes_prediction_dataset.csv')\n",
    "\n",
    "data_set"
   ]
  },
  {
   "cell_type": "markdown",
   "id": "79f6eac8",
   "metadata": {},
   "source": [
    "## Data Exploration"
   ]
  },
  {
   "cell_type": "code",
   "execution_count": 200,
   "id": "587fbc0c",
   "metadata": {},
   "outputs": [
    {
     "name": "stdout",
     "output_type": "stream",
     "text": [
      "Shape of Dataset (Rows, Columns): (100000, 9) \n",
      "\n",
      "Columns in Dataset:\n",
      " Index(['gender', 'age', 'hypertension', 'heart_disease', 'smoking_history',\n",
      "       'bmi', 'HbA1c_level', 'blood_glucose_level', 'diabetes'],\n",
      "      dtype='object') \n",
      "\n",
      "First 5 Rows:\n",
      "    gender   age  hypertension  heart_disease smoking_history    bmi  \\\n",
      "0  Female  80.0             0              1           never  25.19   \n",
      "1  Female  54.0             0              0         No Info  27.32   \n",
      "2    Male  28.0             0              0           never  27.32   \n",
      "3  Female  36.0             0              0         current  23.45   \n",
      "4    Male  76.0             1              1         current  20.14   \n",
      "\n",
      "   HbA1c_level  blood_glucose_level  diabetes  \n",
      "0          6.6                  140         0  \n",
      "1          6.6                   80         0  \n",
      "2          5.7                  158         0  \n",
      "3          5.0                  155         0  \n",
      "4          4.8                  155         0   \n",
      "\n"
     ]
    }
   ],
   "source": [
    "print(\"Shape of Dataset (Rows, Columns):\", data_set.shape, \"\\n\") # total number of rows and columns\n",
    "print(\"Columns in Dataset:\\n\", data_set.columns, \"\\n\") # names of columns\n",
    "print(\"First 5 Rows:\\n\", data_set.head(), \"\\n\")"
   ]
  },
  {
   "cell_type": "code",
   "execution_count": 201,
   "id": "33a1bfd5",
   "metadata": {},
   "outputs": [
    {
     "name": "stdout",
     "output_type": "stream",
     "text": [
      "Missing values per column:\n",
      "gender                 0\n",
      "age                    0\n",
      "hypertension           0\n",
      "heart_disease          0\n",
      "smoking_history        0\n",
      "bmi                    0\n",
      "HbA1c_level            0\n",
      "blood_glucose_level    0\n",
      "diabetes               0\n",
      "dtype: int64\n",
      "\n",
      "Data types of each column:\n",
      "gender                  object\n",
      "age                    float64\n",
      "hypertension             int64\n",
      "heart_disease            int64\n",
      "smoking_history         object\n",
      "bmi                    float64\n",
      "HbA1c_level            float64\n",
      "blood_glucose_level      int64\n",
      "diabetes                 int64\n",
      "dtype: object\n"
     ]
    }
   ],
   "source": [
    "# Check for Missing Values\n",
    "print(\"Missing values per column:\")\n",
    "print(data_set.isnull().sum())\n",
    "\n",
    "# Find data types\n",
    "print(\"\\nData types of each column:\")\n",
    "print(data_set.dtypes)\n"
   ]
  },
  {
   "cell_type": "markdown",
   "id": "3a6be5c1",
   "metadata": {},
   "source": [
    "## Preprocessing"
   ]
  },
  {
   "cell_type": "markdown",
   "id": "9e2afe86",
   "metadata": {},
   "source": [
    "In this section, the researchers will process the data before using it for training. The researchers will do the following:\n",
    "1. Removing duplicates\n",
    "2. Encoding Categorical Data\n",
    "3. Handling Outliers\n",
    "4. Scaling numerical features\n",
    "5. Correlation Matrix"
   ]
  },
  {
   "cell_type": "markdown",
   "id": "45c99647",
   "metadata": {},
   "source": [
    "### Removing duplicates"
   ]
  },
  {
   "cell_type": "code",
   "execution_count": 202,
   "id": "cc21cbcc-131b-4244-9df3-440d48ff3811",
   "metadata": {},
   "outputs": [
    {
     "name": "stdout",
     "output_type": "stream",
     "text": [
      "\n",
      "Duplicate values: 3854\n"
     ]
    }
   ],
   "source": [
    "# Check for duplicate values\n",
    "print(\"\\nDuplicate values:\" , data_set.duplicated().sum())"
   ]
  },
  {
   "cell_type": "markdown",
   "id": "5bc7da91",
   "metadata": {},
   "source": [
    "**Findings:**\n",
    "\n",
    "    Base from the above result, there are `3854` duplicates. This will lead to:\n",
    "    1. Training Bias -> becomes biased toward patterns in frequently repeated observations.\n",
    "    2. Overfitting -> Reduced the ability to perform well on new, unseen data.\n",
    "    3. Distorted Feature Importance -> lead to incorrect conclusions about which health indicators truly predicted diabetes."
   ]
  },
  {
   "cell_type": "code",
   "execution_count": 203,
   "id": "d1a512e9",
   "metadata": {},
   "outputs": [
    {
     "name": "stdout",
     "output_type": "stream",
     "text": [
      "\n",
      "Duplicate values after removing duplicates: 0\n"
     ]
    },
    {
     "data": {
      "text/plain": [
       "gender                 0\n",
       "age                    0\n",
       "hypertension           0\n",
       "heart_disease          0\n",
       "smoking_history        0\n",
       "bmi                    0\n",
       "HbA1c_level            0\n",
       "blood_glucose_level    0\n",
       "diabetes               0\n",
       "dtype: int64"
      ]
     },
     "execution_count": 203,
     "metadata": {},
     "output_type": "execute_result"
    }
   ],
   "source": [
    "# Remove duplicate values\n",
    "\n",
    "data_set.drop_duplicates(inplace=True)\n",
    "\n",
    "# Check for duplicate values again \n",
    "print(\"\\nDuplicate values after removing duplicates:\" , data_set.duplicated().sum())\n",
    "\n",
    "data_set.isnull().sum() # Check for missing values again"
   ]
  },
  {
   "cell_type": "markdown",
   "id": "8c8fd5cf",
   "metadata": {},
   "source": [
    "### Encoding Categorical data"
   ]
  },
  {
   "cell_type": "code",
   "execution_count": 204,
   "id": "b3e769c0",
   "metadata": {},
   "outputs": [
    {
     "name": "stdout",
     "output_type": "stream",
     "text": [
      "Before Encoding:\n",
      "\n",
      "gender                  object\n",
      "age                    float64\n",
      "hypertension             int64\n",
      "heart_disease            int64\n",
      "smoking_history         object\n",
      "bmi                    float64\n",
      "HbA1c_level            float64\n",
      "blood_glucose_level      int64\n",
      "diabetes                 int64\n",
      "dtype: object\n",
      "\n",
      "---------------------------------------------------------------------\n",
      "\n",
      "After Encoding:\n",
      "\n",
      "gender                           int64\n",
      "age                            float64\n",
      "hypertension                     int64\n",
      "heart_disease                    int64\n",
      "bmi                            float64\n",
      "HbA1c_level                    float64\n",
      "blood_glucose_level              int64\n",
      "diabetes                         int64\n",
      "smoking_history_current           bool\n",
      "smoking_history_ever              bool\n",
      "smoking_history_former            bool\n",
      "smoking_history_never             bool\n",
      "smoking_history_not current       bool\n",
      "dtype: object\n"
     ]
    }
   ],
   "source": [
    "print(\"Before Encoding:\\n\")\n",
    "# Show data types\n",
    "print(data_set.dtypes)\n",
    "\n",
    "\n",
    "# Age\n",
    "le = LabelEncoder()\n",
    "data_set['gender']= le.fit_transform(data_set['gender'])\n",
    "\n",
    "# Smoking History\n",
    "data_set = pd.get_dummies(data_set,columns=['smoking_history'],drop_first=True)\n",
    "\n",
    "print(\"\\n---------------------------------------------------------------------\\n\")\n",
    "\n",
    "print(\"After Encoding:\\n\")\n",
    "\n",
    "# Verify\n",
    "print(data_set.dtypes)"
   ]
  },
  {
   "cell_type": "markdown",
   "id": "a636be22",
   "metadata": {},
   "source": [
    "### Scaling Numerical Features"
   ]
  },
  {
   "cell_type": "code",
   "execution_count": 205,
   "id": "8b32e6f3",
   "metadata": {},
   "outputs": [
    {
     "name": "stdout",
     "output_type": "stream",
     "text": [
      "\n",
      "Scaled Data:\n",
      "\n",
      "   gender       age  hypertension  heart_disease       bmi  HbA1c_level  \\\n",
      "0       0  1.000000             0              1  0.177171     0.563636   \n",
      "1       0  0.674675             0              0  0.202031     0.563636   \n",
      "2       1  0.349349             0              0  0.202031     0.400000   \n",
      "3       0  0.449449             0              0  0.156863     0.272727   \n",
      "4       1  0.949950             1              1  0.118231     0.236364   \n",
      "\n",
      "   blood_glucose_level  diabetes  smoking_history_current  \\\n",
      "0             0.272727         0                    False   \n",
      "1             0.000000         0                    False   \n",
      "2             0.354545         0                    False   \n",
      "3             0.340909         0                     True   \n",
      "4             0.340909         0                     True   \n",
      "\n",
      "   smoking_history_ever  smoking_history_former  smoking_history_never  \\\n",
      "0                 False                   False                   True   \n",
      "1                 False                   False                  False   \n",
      "2                 False                   False                   True   \n",
      "3                 False                   False                  False   \n",
      "4                 False                   False                  False   \n",
      "\n",
      "   smoking_history_not current  \n",
      "0                        False  \n",
      "1                        False  \n",
      "2                        False  \n",
      "3                        False  \n",
      "4                        False  \n"
     ]
    }
   ],
   "source": [
    "numerical_columns = ['age','bmi', 'HbA1c_level', 'blood_glucose_level']\n",
    "\n",
    "scaler = MinMaxScaler()\n",
    "\n",
    "data_set[numerical_columns] = scaler.fit_transform(data_set[numerical_columns])\n",
    "\n",
    "# Print the first 5 rows of the scaled data\n",
    "print(\"\\nScaled Data:\\n\")\n",
    "print(data_set.head())"
   ]
  },
  {
   "cell_type": "markdown",
   "id": "ae35fb6b",
   "metadata": {},
   "source": [
    "### Correlation Matrix"
   ]
  },
  {
   "cell_type": "code",
   "execution_count": 206,
   "id": "8267a67f",
   "metadata": {},
   "outputs": [
    {
     "data": {
      "image/png": "[encoded data removed]",
      "text/plain": [
       "<Figure size 1600x1600 with 2 Axes>"
      ]
     },
     "metadata": {},
     "output_type": "display_data"
    }
   ],
   "source": [
    "numerical_columns = data_set.select_dtypes(include=[np.number]).columns # Select numerical columns\n",
    "\n",
    "corr_matrix = data_set[numerical_columns].corr() # Calculate correlation matrix\n",
    "\n",
    "missing_cols = data_set[numerical_columns].isnull().sum() # Count missing values in each column\n",
    "missing_cols = missing_cols[missing_cols > 0].index  # Get columns with missing values\n",
    "\n",
    "\n",
    "plt.figure(figsize=(16, 16))\n",
    "ax = sns.heatmap(\n",
    "    corr_matrix, \n",
    "    annot=True, \n",
    "    fmt=\".2f\", \n",
    "    cmap=\"coolwarm\", \n",
    "    center=0,  \n",
    "    linewidths=0.10,  \n",
    "    square=True,\n",
    "    vmin=-1,\n",
    "    vmax=1,\n",
    "    cbar_kws={\"shrink\": .8, \"label\": \"Correlation Coefficient\"},\n",
    ")\n",
    "\n",
    "for col in missing_cols:\n",
    "    if col in numerical_columns:\n",
    "        col_idx = list(numerical_columns).index(col)\n",
    "        ax.add_patch(plt.Rectangle((col_idx, 0), 1, len(numerical_columns), fill=False, edgecolor='green', lw=4))\n",
    "\n",
    "plt.title(\"Correlation Heatmap of Numerical Features\", fontsize=14)\n",
    "plt.show()"
   ]
  }
 ],
 "metadata": {
  "kernelspec": {
   "display_name": "Python 3 (ipykernel)",
   "language": "python",
   "name": "python3"
  },
  "language_info": {
   "codemirror_mode": {
    "name": "ipython",
    "version": 3
   },
   "file_extension": ".py",
   "mimetype": "text/x-python",
   "name": "python",
   "nbconvert_exporter": "python",
   "pygments_lexer": "ipython3",
   "version": "3.10.12"
  }
 },
 "nbformat": 4,
 "nbformat_minor": 5
}
